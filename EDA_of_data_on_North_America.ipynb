{
  "nbformat": 4,
  "nbformat_minor": 0,
  "metadata": {
    "colab": {
      "provenance": [],
      "authorship_tag": "ABX9TyNq6i3bx1Hxwj64B8i8rjxv",
      "include_colab_link": true
    },
    "kernelspec": {
      "name": "python3",
      "display_name": "Python 3"
    },
    "language_info": {
      "name": "python"
    }
  },
  "cells": [
    {
      "cell_type": "markdown",
      "metadata": {
        "id": "view-in-github",
        "colab_type": "text"
      },
      "source": [
        "<a href=\"https://colab.research.google.com/github/shrikrishnau/EDA-on-Beverage-data/blob/main/EDA_of_data_on_North_America.ipynb\" target=\"_parent\"><img src=\"https://colab.research.google.com/assets/colab-badge.svg\" alt=\"Open In Colab\"/></a>"
      ]
    },
    {
      "cell_type": "markdown",
      "source": [
        "Importing Necessary Libraries"
      ],
      "metadata": {
        "id": "V-83yCWsvZfV"
      }
    },
    {
      "cell_type": "code",
      "execution_count": 20,
      "metadata": {
        "id": "nA2au3Y1-pmF"
      },
      "outputs": [],
      "source": [
        "import pandas as pd\n",
        "import seaborn as sns\n",
        "import matplotlib.pyplot as plt"
      ]
    },
    {
      "cell_type": "markdown",
      "source": [
        "Importing File from Google Drive"
      ],
      "metadata": {
        "id": "Z19V98rnveu8"
      }
    },
    {
      "cell_type": "code",
      "source": [
        "from google.colab import drive\n",
        "drive.mount('/content/drive')\n"
      ],
      "metadata": {
        "colab": {
          "base_uri": "https://localhost:8080/"
        },
        "id": "jbd7AgnE_Afs",
        "outputId": "4b8cd3be-f617-4d9b-8a36-7e0aa1c565eb"
      },
      "execution_count": 21,
      "outputs": [
        {
          "output_type": "stream",
          "name": "stdout",
          "text": [
            "Drive already mounted at /content/drive; to attempt to forcibly remount, call drive.mount(\"/content/drive\", force_remount=True).\n"
          ]
        }
      ]
    },
    {
      "cell_type": "code",
      "source": [
        "x=\"/content/drive/MyDrive/Colab Notebooks/Case Study/Product Launch(NA).xlsx\"\n",
        "df=pd.read_excel(x)"
      ],
      "metadata": {
        "id": "_cvV56JR_AYM"
      },
      "execution_count": 38,
      "outputs": []
    },
    {
      "cell_type": "code",
      "source": [
        "df.head(5)"
      ],
      "metadata": {
        "colab": {
          "base_uri": "https://localhost:8080/",
          "height": 206
        },
        "id": "M7wgip5Y_AUe",
        "outputId": "2bc978f5-fc5e-4c63-b26e-cc9666f9403b"
      },
      "execution_count": 39,
      "outputs": [
        {
          "output_type": "execute_result",
          "data": {
            "text/plain": [
              "   Product id                                         Flavor  \\\n",
              "0           1                           Fruit, not specified   \n",
              "1           2  Cherry, Not specified; Vanilla, Not specified   \n",
              "2           3                          Orange, not specified   \n",
              "3           4     Superfruit, Pomegranate; Berry, Blackberry   \n",
              "4           5         Superfruit, acai; Herbs, not specified   \n",
              "\n",
              "           Market Subcategory Launch Date Country         Region  \\\n",
              "0  Drink Concentrates & Mixes  2001-01-01     NA1  North America   \n",
              "1   Bottled Water - Flavoured  2001-01-01     NA1  North America   \n",
              "2        Juice & Juice Drinks  2001-01-01     NA1  North America   \n",
              "3                  Carbonates  2001-01-01     NA1  North America   \n",
              "4        Juice & Juice Drinks  2001-01-01     NA2  North America   \n",
              "\n",
              "                                         Positioning  \n",
              "0    Dry, Low Fat, Low Sodium, Low Calorie, Low Carb  \n",
              "1                            Convenience - Packaging  \n",
              "2                             Low Calorie, Low Sugar  \n",
              "3  Female, Antioxidant, Low Calorie, Low Carb, Su...  \n",
              "4  Heart Health, Antioxidant, Anti-Aging/Aging-We...  "
            ],
            "text/html": [
              "\n",
              "  <div id=\"df-e65427d1-ea49-4f09-8b0a-fbfadfede0ee\">\n",
              "    <div class=\"colab-df-container\">\n",
              "      <div>\n",
              "<style scoped>\n",
              "    .dataframe tbody tr th:only-of-type {\n",
              "        vertical-align: middle;\n",
              "    }\n",
              "\n",
              "    .dataframe tbody tr th {\n",
              "        vertical-align: top;\n",
              "    }\n",
              "\n",
              "    .dataframe thead th {\n",
              "        text-align: right;\n",
              "    }\n",
              "</style>\n",
              "<table border=\"1\" class=\"dataframe\">\n",
              "  <thead>\n",
              "    <tr style=\"text-align: right;\">\n",
              "      <th></th>\n",
              "      <th>Product id</th>\n",
              "      <th>Flavor</th>\n",
              "      <th>Market Subcategory</th>\n",
              "      <th>Launch Date</th>\n",
              "      <th>Country</th>\n",
              "      <th>Region</th>\n",
              "      <th>Positioning</th>\n",
              "    </tr>\n",
              "  </thead>\n",
              "  <tbody>\n",
              "    <tr>\n",
              "      <th>0</th>\n",
              "      <td>1</td>\n",
              "      <td>Fruit, not specified</td>\n",
              "      <td>Drink Concentrates &amp; Mixes</td>\n",
              "      <td>2001-01-01</td>\n",
              "      <td>NA1</td>\n",
              "      <td>North America</td>\n",
              "      <td>Dry, Low Fat, Low Sodium, Low Calorie, Low Carb</td>\n",
              "    </tr>\n",
              "    <tr>\n",
              "      <th>1</th>\n",
              "      <td>2</td>\n",
              "      <td>Cherry, Not specified; Vanilla, Not specified</td>\n",
              "      <td>Bottled Water - Flavoured</td>\n",
              "      <td>2001-01-01</td>\n",
              "      <td>NA1</td>\n",
              "      <td>North America</td>\n",
              "      <td>Convenience - Packaging</td>\n",
              "    </tr>\n",
              "    <tr>\n",
              "      <th>2</th>\n",
              "      <td>3</td>\n",
              "      <td>Orange, not specified</td>\n",
              "      <td>Juice &amp; Juice Drinks</td>\n",
              "      <td>2001-01-01</td>\n",
              "      <td>NA1</td>\n",
              "      <td>North America</td>\n",
              "      <td>Low Calorie, Low Sugar</td>\n",
              "    </tr>\n",
              "    <tr>\n",
              "      <th>3</th>\n",
              "      <td>4</td>\n",
              "      <td>Superfruit, Pomegranate; Berry, Blackberry</td>\n",
              "      <td>Carbonates</td>\n",
              "      <td>2001-01-01</td>\n",
              "      <td>NA1</td>\n",
              "      <td>North America</td>\n",
              "      <td>Female, Antioxidant, Low Calorie, Low Carb, Su...</td>\n",
              "    </tr>\n",
              "    <tr>\n",
              "      <th>4</th>\n",
              "      <td>5</td>\n",
              "      <td>Superfruit, acai; Herbs, not specified</td>\n",
              "      <td>Juice &amp; Juice Drinks</td>\n",
              "      <td>2001-01-01</td>\n",
              "      <td>NA2</td>\n",
              "      <td>North America</td>\n",
              "      <td>Heart Health, Antioxidant, Anti-Aging/Aging-We...</td>\n",
              "    </tr>\n",
              "  </tbody>\n",
              "</table>\n",
              "</div>\n",
              "      <button class=\"colab-df-convert\" onclick=\"convertToInteractive('df-e65427d1-ea49-4f09-8b0a-fbfadfede0ee')\"\n",
              "              title=\"Convert this dataframe to an interactive table.\"\n",
              "              style=\"display:none;\">\n",
              "        \n",
              "  <svg xmlns=\"http://www.w3.org/2000/svg\" height=\"24px\"viewBox=\"0 0 24 24\"\n",
              "       width=\"24px\">\n",
              "    <path d=\"M0 0h24v24H0V0z\" fill=\"none\"/>\n",
              "    <path d=\"M18.56 5.44l.94 2.06.94-2.06 2.06-.94-2.06-.94-.94-2.06-.94 2.06-2.06.94zm-11 1L8.5 8.5l.94-2.06 2.06-.94-2.06-.94L8.5 2.5l-.94 2.06-2.06.94zm10 10l.94 2.06.94-2.06 2.06-.94-2.06-.94-.94-2.06-.94 2.06-2.06.94z\"/><path d=\"M17.41 7.96l-1.37-1.37c-.4-.4-.92-.59-1.43-.59-.52 0-1.04.2-1.43.59L10.3 9.45l-7.72 7.72c-.78.78-.78 2.05 0 2.83L4 21.41c.39.39.9.59 1.41.59.51 0 1.02-.2 1.41-.59l7.78-7.78 2.81-2.81c.8-.78.8-2.07 0-2.86zM5.41 20L4 18.59l7.72-7.72 1.47 1.35L5.41 20z\"/>\n",
              "  </svg>\n",
              "      </button>\n",
              "      \n",
              "  <style>\n",
              "    .colab-df-container {\n",
              "      display:flex;\n",
              "      flex-wrap:wrap;\n",
              "      gap: 12px;\n",
              "    }\n",
              "\n",
              "    .colab-df-convert {\n",
              "      background-color: #E8F0FE;\n",
              "      border: none;\n",
              "      border-radius: 50%;\n",
              "      cursor: pointer;\n",
              "      display: none;\n",
              "      fill: #1967D2;\n",
              "      height: 32px;\n",
              "      padding: 0 0 0 0;\n",
              "      width: 32px;\n",
              "    }\n",
              "\n",
              "    .colab-df-convert:hover {\n",
              "      background-color: #E2EBFA;\n",
              "      box-shadow: 0px 1px 2px rgba(60, 64, 67, 0.3), 0px 1px 3px 1px rgba(60, 64, 67, 0.15);\n",
              "      fill: #174EA6;\n",
              "    }\n",
              "\n",
              "    [theme=dark] .colab-df-convert {\n",
              "      background-color: #3B4455;\n",
              "      fill: #D2E3FC;\n",
              "    }\n",
              "\n",
              "    [theme=dark] .colab-df-convert:hover {\n",
              "      background-color: #434B5C;\n",
              "      box-shadow: 0px 1px 3px 1px rgba(0, 0, 0, 0.15);\n",
              "      filter: drop-shadow(0px 1px 2px rgba(0, 0, 0, 0.3));\n",
              "      fill: #FFFFFF;\n",
              "    }\n",
              "  </style>\n",
              "\n",
              "      <script>\n",
              "        const buttonEl =\n",
              "          document.querySelector('#df-e65427d1-ea49-4f09-8b0a-fbfadfede0ee button.colab-df-convert');\n",
              "        buttonEl.style.display =\n",
              "          google.colab.kernel.accessAllowed ? 'block' : 'none';\n",
              "\n",
              "        async function convertToInteractive(key) {\n",
              "          const element = document.querySelector('#df-e65427d1-ea49-4f09-8b0a-fbfadfede0ee');\n",
              "          const dataTable =\n",
              "            await google.colab.kernel.invokeFunction('convertToInteractive',\n",
              "                                                     [key], {});\n",
              "          if (!dataTable) return;\n",
              "\n",
              "          const docLinkHtml = 'Like what you see? Visit the ' +\n",
              "            '<a target=\"_blank\" href=https://colab.research.google.com/notebooks/data_table.ipynb>data table notebook</a>'\n",
              "            + ' to learn more about interactive tables.';\n",
              "          element.innerHTML = '';\n",
              "          dataTable['output_type'] = 'display_data';\n",
              "          await google.colab.output.renderOutput(dataTable, element);\n",
              "          const docLink = document.createElement('div');\n",
              "          docLink.innerHTML = docLinkHtml;\n",
              "          element.appendChild(docLink);\n",
              "        }\n",
              "      </script>\n",
              "    </div>\n",
              "  </div>\n",
              "  "
            ]
          },
          "metadata": {},
          "execution_count": 39
        }
      ]
    },
    {
      "cell_type": "code",
      "source": [
        "df.tail(5)"
      ],
      "metadata": {
        "colab": {
          "base_uri": "https://localhost:8080/",
          "height": 206
        },
        "id": "6jiD9YJ6zjMu",
        "outputId": "32b8b16a-a8ec-4c4f-b0d9-b254ae3b29de"
      },
      "execution_count": 40,
      "outputs": [
        {
          "output_type": "execute_result",
          "data": {
            "text/plain": [
              "       Product id                             Flavor Market Subcategory  \\\n",
              "20080       20081                   Berry, Wildberry  Other Soft Drinks   \n",
              "20081       20082           Raspberry, Not Specified  Other Soft Drinks   \n",
              "20082       20083                         Tea, White           Iced Tea   \n",
              "20083       20084  Tea, Green; Citrus, Not Specified           Iced Tea   \n",
              "20084       20085              Cherry, Not Specified      Energy Drinks   \n",
              "\n",
              "      Launch Date Country         Region  \\\n",
              "20080  2010-01-01     NA1  North America   \n",
              "20081  2010-01-01     NA1  North America   \n",
              "20082  2010-01-01     NA1  North America   \n",
              "20083  2010-01-01     NA1  North America   \n",
              "20084  2010-01-01     NA1  North America   \n",
              "\n",
              "                                             Positioning  \n",
              "20080  Low Calorie, Energy/Alertness, Ethical - Packa...  \n",
              "20081  Low Calorie, Energy/Alertness, Ethical - Packa...  \n",
              "20082  Antioxidant, Natural, Ethical - Packaging, Con...  \n",
              "20083  Antioxidant, Natural, Ethical - Packaging, Con...  \n",
              "20084  Kosher, Juice Drinks (up to 25% juice), Allerg...  "
            ],
            "text/html": [
              "\n",
              "  <div id=\"df-cc4e9e01-994c-48d7-8c37-a2b381749584\">\n",
              "    <div class=\"colab-df-container\">\n",
              "      <div>\n",
              "<style scoped>\n",
              "    .dataframe tbody tr th:only-of-type {\n",
              "        vertical-align: middle;\n",
              "    }\n",
              "\n",
              "    .dataframe tbody tr th {\n",
              "        vertical-align: top;\n",
              "    }\n",
              "\n",
              "    .dataframe thead th {\n",
              "        text-align: right;\n",
              "    }\n",
              "</style>\n",
              "<table border=\"1\" class=\"dataframe\">\n",
              "  <thead>\n",
              "    <tr style=\"text-align: right;\">\n",
              "      <th></th>\n",
              "      <th>Product id</th>\n",
              "      <th>Flavor</th>\n",
              "      <th>Market Subcategory</th>\n",
              "      <th>Launch Date</th>\n",
              "      <th>Country</th>\n",
              "      <th>Region</th>\n",
              "      <th>Positioning</th>\n",
              "    </tr>\n",
              "  </thead>\n",
              "  <tbody>\n",
              "    <tr>\n",
              "      <th>20080</th>\n",
              "      <td>20081</td>\n",
              "      <td>Berry, Wildberry</td>\n",
              "      <td>Other Soft Drinks</td>\n",
              "      <td>2010-01-01</td>\n",
              "      <td>NA1</td>\n",
              "      <td>North America</td>\n",
              "      <td>Low Calorie, Energy/Alertness, Ethical - Packa...</td>\n",
              "    </tr>\n",
              "    <tr>\n",
              "      <th>20081</th>\n",
              "      <td>20082</td>\n",
              "      <td>Raspberry, Not Specified</td>\n",
              "      <td>Other Soft Drinks</td>\n",
              "      <td>2010-01-01</td>\n",
              "      <td>NA1</td>\n",
              "      <td>North America</td>\n",
              "      <td>Low Calorie, Energy/Alertness, Ethical - Packa...</td>\n",
              "    </tr>\n",
              "    <tr>\n",
              "      <th>20082</th>\n",
              "      <td>20083</td>\n",
              "      <td>Tea, White</td>\n",
              "      <td>Iced Tea</td>\n",
              "      <td>2010-01-01</td>\n",
              "      <td>NA1</td>\n",
              "      <td>North America</td>\n",
              "      <td>Antioxidant, Natural, Ethical - Packaging, Con...</td>\n",
              "    </tr>\n",
              "    <tr>\n",
              "      <th>20083</th>\n",
              "      <td>20084</td>\n",
              "      <td>Tea, Green; Citrus, Not Specified</td>\n",
              "      <td>Iced Tea</td>\n",
              "      <td>2010-01-01</td>\n",
              "      <td>NA1</td>\n",
              "      <td>North America</td>\n",
              "      <td>Antioxidant, Natural, Ethical - Packaging, Con...</td>\n",
              "    </tr>\n",
              "    <tr>\n",
              "      <th>20084</th>\n",
              "      <td>20085</td>\n",
              "      <td>Cherry, Not Specified</td>\n",
              "      <td>Energy Drinks</td>\n",
              "      <td>2010-01-01</td>\n",
              "      <td>NA1</td>\n",
              "      <td>North America</td>\n",
              "      <td>Kosher, Juice Drinks (up to 25% juice), Allerg...</td>\n",
              "    </tr>\n",
              "  </tbody>\n",
              "</table>\n",
              "</div>\n",
              "      <button class=\"colab-df-convert\" onclick=\"convertToInteractive('df-cc4e9e01-994c-48d7-8c37-a2b381749584')\"\n",
              "              title=\"Convert this dataframe to an interactive table.\"\n",
              "              style=\"display:none;\">\n",
              "        \n",
              "  <svg xmlns=\"http://www.w3.org/2000/svg\" height=\"24px\"viewBox=\"0 0 24 24\"\n",
              "       width=\"24px\">\n",
              "    <path d=\"M0 0h24v24H0V0z\" fill=\"none\"/>\n",
              "    <path d=\"M18.56 5.44l.94 2.06.94-2.06 2.06-.94-2.06-.94-.94-2.06-.94 2.06-2.06.94zm-11 1L8.5 8.5l.94-2.06 2.06-.94-2.06-.94L8.5 2.5l-.94 2.06-2.06.94zm10 10l.94 2.06.94-2.06 2.06-.94-2.06-.94-.94-2.06-.94 2.06-2.06.94z\"/><path d=\"M17.41 7.96l-1.37-1.37c-.4-.4-.92-.59-1.43-.59-.52 0-1.04.2-1.43.59L10.3 9.45l-7.72 7.72c-.78.78-.78 2.05 0 2.83L4 21.41c.39.39.9.59 1.41.59.51 0 1.02-.2 1.41-.59l7.78-7.78 2.81-2.81c.8-.78.8-2.07 0-2.86zM5.41 20L4 18.59l7.72-7.72 1.47 1.35L5.41 20z\"/>\n",
              "  </svg>\n",
              "      </button>\n",
              "      \n",
              "  <style>\n",
              "    .colab-df-container {\n",
              "      display:flex;\n",
              "      flex-wrap:wrap;\n",
              "      gap: 12px;\n",
              "    }\n",
              "\n",
              "    .colab-df-convert {\n",
              "      background-color: #E8F0FE;\n",
              "      border: none;\n",
              "      border-radius: 50%;\n",
              "      cursor: pointer;\n",
              "      display: none;\n",
              "      fill: #1967D2;\n",
              "      height: 32px;\n",
              "      padding: 0 0 0 0;\n",
              "      width: 32px;\n",
              "    }\n",
              "\n",
              "    .colab-df-convert:hover {\n",
              "      background-color: #E2EBFA;\n",
              "      box-shadow: 0px 1px 2px rgba(60, 64, 67, 0.3), 0px 1px 3px 1px rgba(60, 64, 67, 0.15);\n",
              "      fill: #174EA6;\n",
              "    }\n",
              "\n",
              "    [theme=dark] .colab-df-convert {\n",
              "      background-color: #3B4455;\n",
              "      fill: #D2E3FC;\n",
              "    }\n",
              "\n",
              "    [theme=dark] .colab-df-convert:hover {\n",
              "      background-color: #434B5C;\n",
              "      box-shadow: 0px 1px 3px 1px rgba(0, 0, 0, 0.15);\n",
              "      filter: drop-shadow(0px 1px 2px rgba(0, 0, 0, 0.3));\n",
              "      fill: #FFFFFF;\n",
              "    }\n",
              "  </style>\n",
              "\n",
              "      <script>\n",
              "        const buttonEl =\n",
              "          document.querySelector('#df-cc4e9e01-994c-48d7-8c37-a2b381749584 button.colab-df-convert');\n",
              "        buttonEl.style.display =\n",
              "          google.colab.kernel.accessAllowed ? 'block' : 'none';\n",
              "\n",
              "        async function convertToInteractive(key) {\n",
              "          const element = document.querySelector('#df-cc4e9e01-994c-48d7-8c37-a2b381749584');\n",
              "          const dataTable =\n",
              "            await google.colab.kernel.invokeFunction('convertToInteractive',\n",
              "                                                     [key], {});\n",
              "          if (!dataTable) return;\n",
              "\n",
              "          const docLinkHtml = 'Like what you see? Visit the ' +\n",
              "            '<a target=\"_blank\" href=https://colab.research.google.com/notebooks/data_table.ipynb>data table notebook</a>'\n",
              "            + ' to learn more about interactive tables.';\n",
              "          element.innerHTML = '';\n",
              "          dataTable['output_type'] = 'display_data';\n",
              "          await google.colab.output.renderOutput(dataTable, element);\n",
              "          const docLink = document.createElement('div');\n",
              "          docLink.innerHTML = docLinkHtml;\n",
              "          element.appendChild(docLink);\n",
              "        }\n",
              "      </script>\n",
              "    </div>\n",
              "  </div>\n",
              "  "
            ]
          },
          "metadata": {},
          "execution_count": 40
        }
      ]
    },
    {
      "cell_type": "code",
      "source": [
        "df.shape"
      ],
      "metadata": {
        "colab": {
          "base_uri": "https://localhost:8080/"
        },
        "id": "9x3E1QzBztX-",
        "outputId": "131e60e5-d4b1-4f82-a58f-599f9ea8e7a0"
      },
      "execution_count": 41,
      "outputs": [
        {
          "output_type": "execute_result",
          "data": {
            "text/plain": [
              "(20085, 7)"
            ]
          },
          "metadata": {},
          "execution_count": 41
        }
      ]
    },
    {
      "cell_type": "markdown",
      "source": [
        "Product ID is not unique, the data is as same as serial number. Hence, product ID can be ignored."
      ],
      "metadata": {
        "id": "iWp2hW9vz9mK"
      }
    },
    {
      "cell_type": "code",
      "source": [
        "df.columns"
      ],
      "metadata": {
        "colab": {
          "base_uri": "https://localhost:8080/"
        },
        "id": "ofKnCseR0Rg_",
        "outputId": "82a54cd1-5a26-4561-f8f8-e1fd039c5c9a"
      },
      "execution_count": 42,
      "outputs": [
        {
          "output_type": "execute_result",
          "data": {
            "text/plain": [
              "Index(['Product id', 'Flavor', 'Market Subcategory', 'Launch Date', 'Country',\n",
              "       'Region', 'Positioning'],\n",
              "      dtype='object')"
            ]
          },
          "metadata": {},
          "execution_count": 42
        }
      ]
    },
    {
      "cell_type": "code",
      "source": [
        "df.value_counts('Country')"
      ],
      "metadata": {
        "colab": {
          "base_uri": "https://localhost:8080/"
        },
        "id": "56mcpC4eHEBH",
        "outputId": "0626baea-a87b-420b-83fc-69fccbfd80ab"
      },
      "execution_count": 63,
      "outputs": [
        {
          "output_type": "execute_result",
          "data": {
            "text/plain": [
              "Country\n",
              "NA1    18240\n",
              "NA2     1844\n",
              "NA3        1\n",
              "dtype: int64"
            ]
          },
          "metadata": {},
          "execution_count": 63
        }
      ]
    },
    {
      "cell_type": "code",
      "source": [
        "df.nunique()"
      ],
      "metadata": {
        "colab": {
          "base_uri": "https://localhost:8080/"
        },
        "id": "0lzBEnf70aqa",
        "outputId": "dcc928fa-688d-48d4-9c16-1e2e0703f22b"
      },
      "execution_count": 43,
      "outputs": [
        {
          "output_type": "execute_result",
          "data": {
            "text/plain": [
              "Product id            20085\n",
              "Flavor                 5280\n",
              "Market Subcategory       13\n",
              "Launch Date              11\n",
              "Country                   3\n",
              "Region                    1\n",
              "Positioning            7663\n",
              "dtype: int64"
            ]
          },
          "metadata": {},
          "execution_count": 43
        }
      ]
    },
    {
      "cell_type": "markdown",
      "source": [
        "Cleaning the Data"
      ],
      "metadata": {
        "id": "bODbToDdLq6O"
      }
    },
    {
      "cell_type": "code",
      "source": [
        "df.isnull().sum()"
      ],
      "metadata": {
        "colab": {
          "base_uri": "https://localhost:8080/"
        },
        "id": "UmS22TGn1AnQ",
        "outputId": "4cfc9c4e-207a-40bd-af4f-83a557f1949f"
      },
      "execution_count": 44,
      "outputs": [
        {
          "output_type": "execute_result",
          "data": {
            "text/plain": [
              "Product id              0\n",
              "Flavor                423\n",
              "Market Subcategory      0\n",
              "Launch Date             0\n",
              "Country                 0\n",
              "Region                  0\n",
              "Positioning           551\n",
              "dtype: int64"
            ]
          },
          "metadata": {},
          "execution_count": 44
        }
      ]
    },
    {
      "cell_type": "markdown",
      "source": [
        "Since the null values constitute only a amount of the dataset, we can drop it."
      ],
      "metadata": {
        "id": "vaoU9S0f-5Wn"
      }
    },
    {
      "cell_type": "code",
      "source": [
        "data = df.dropna()\n",
        "data.shape"
      ],
      "metadata": {
        "colab": {
          "base_uri": "https://localhost:8080/"
        },
        "id": "_KPCErGR_DXi",
        "outputId": "0e832b6a-be93-4cdd-8c0a-f2ecc6f08bf5"
      },
      "execution_count": 52,
      "outputs": [
        {
          "output_type": "execute_result",
          "data": {
            "text/plain": [
              "(19118, 7)"
            ]
          },
          "metadata": {},
          "execution_count": 52
        }
      ]
    },
    {
      "cell_type": "code",
      "source": [
        "(20085-19118)/20085"
      ],
      "metadata": {
        "colab": {
          "base_uri": "https://localhost:8080/"
        },
        "id": "d9YoE5R4_ars",
        "outputId": "9e9c66cc-f86c-40ee-e66f-b2140c75d6ef"
      },
      "execution_count": 47,
      "outputs": [
        {
          "output_type": "execute_result",
          "data": {
            "text/plain": [
              "0.04814538212596465"
            ]
          },
          "metadata": {},
          "execution_count": 47
        }
      ]
    },
    {
      "cell_type": "markdown",
      "source": [
        "Approximately 4.8% of the dataset"
      ],
      "metadata": {
        "id": "xwuPiBQbAAUb"
      }
    },
    {
      "cell_type": "code",
      "source": [
        "data.isnull().sum()"
      ],
      "metadata": {
        "colab": {
          "base_uri": "https://localhost:8080/"
        },
        "id": "uCLWh2BzAJcR",
        "outputId": "e4929453-2602-4830-dff9-2a954bc037ca"
      },
      "execution_count": 53,
      "outputs": [
        {
          "output_type": "execute_result",
          "data": {
            "text/plain": [
              "Product id            0\n",
              "Flavor                0\n",
              "Market Subcategory    0\n",
              "Launch Date           0\n",
              "Country               0\n",
              "Region                0\n",
              "Positioning           0\n",
              "dtype: int64"
            ]
          },
          "metadata": {},
          "execution_count": 53
        }
      ]
    },
    {
      "cell_type": "markdown",
      "source": [
        "Removing Unnecessay columns"
      ],
      "metadata": {
        "id": "7eI8b3GiA9QQ"
      }
    },
    {
      "cell_type": "code",
      "source": [
        "da = data.drop(['Product id','Region'], axis=1)"
      ],
      "metadata": {
        "id": "FpOjd-aNA77V"
      },
      "execution_count": 54,
      "outputs": []
    },
    {
      "cell_type": "code",
      "source": [
        "da.head()"
      ],
      "metadata": {
        "colab": {
          "base_uri": "https://localhost:8080/",
          "height": 206
        },
        "id": "gY_yL_gvBpAE",
        "outputId": "c5662200-813f-40ed-a157-a28721b95774"
      },
      "execution_count": 55,
      "outputs": [
        {
          "output_type": "execute_result",
          "data": {
            "text/plain": [
              "                                          Flavor          Market Subcategory  \\\n",
              "0                           Fruit, not specified  Drink Concentrates & Mixes   \n",
              "1  Cherry, Not specified; Vanilla, Not specified   Bottled Water - Flavoured   \n",
              "2                          Orange, not specified        Juice & Juice Drinks   \n",
              "3     Superfruit, Pomegranate; Berry, Blackberry                  Carbonates   \n",
              "4         Superfruit, acai; Herbs, not specified        Juice & Juice Drinks   \n",
              "\n",
              "  Launch Date Country                                        Positioning  \n",
              "0  2001-01-01     NA1    Dry, Low Fat, Low Sodium, Low Calorie, Low Carb  \n",
              "1  2001-01-01     NA1                            Convenience - Packaging  \n",
              "2  2001-01-01     NA1                             Low Calorie, Low Sugar  \n",
              "3  2001-01-01     NA1  Female, Antioxidant, Low Calorie, Low Carb, Su...  \n",
              "4  2001-01-01     NA2  Heart Health, Antioxidant, Anti-Aging/Aging-We...  "
            ],
            "text/html": [
              "\n",
              "  <div id=\"df-25699323-b75e-455f-afee-ed08765c0d46\">\n",
              "    <div class=\"colab-df-container\">\n",
              "      <div>\n",
              "<style scoped>\n",
              "    .dataframe tbody tr th:only-of-type {\n",
              "        vertical-align: middle;\n",
              "    }\n",
              "\n",
              "    .dataframe tbody tr th {\n",
              "        vertical-align: top;\n",
              "    }\n",
              "\n",
              "    .dataframe thead th {\n",
              "        text-align: right;\n",
              "    }\n",
              "</style>\n",
              "<table border=\"1\" class=\"dataframe\">\n",
              "  <thead>\n",
              "    <tr style=\"text-align: right;\">\n",
              "      <th></th>\n",
              "      <th>Flavor</th>\n",
              "      <th>Market Subcategory</th>\n",
              "      <th>Launch Date</th>\n",
              "      <th>Country</th>\n",
              "      <th>Positioning</th>\n",
              "    </tr>\n",
              "  </thead>\n",
              "  <tbody>\n",
              "    <tr>\n",
              "      <th>0</th>\n",
              "      <td>Fruit, not specified</td>\n",
              "      <td>Drink Concentrates &amp; Mixes</td>\n",
              "      <td>2001-01-01</td>\n",
              "      <td>NA1</td>\n",
              "      <td>Dry, Low Fat, Low Sodium, Low Calorie, Low Carb</td>\n",
              "    </tr>\n",
              "    <tr>\n",
              "      <th>1</th>\n",
              "      <td>Cherry, Not specified; Vanilla, Not specified</td>\n",
              "      <td>Bottled Water - Flavoured</td>\n",
              "      <td>2001-01-01</td>\n",
              "      <td>NA1</td>\n",
              "      <td>Convenience - Packaging</td>\n",
              "    </tr>\n",
              "    <tr>\n",
              "      <th>2</th>\n",
              "      <td>Orange, not specified</td>\n",
              "      <td>Juice &amp; Juice Drinks</td>\n",
              "      <td>2001-01-01</td>\n",
              "      <td>NA1</td>\n",
              "      <td>Low Calorie, Low Sugar</td>\n",
              "    </tr>\n",
              "    <tr>\n",
              "      <th>3</th>\n",
              "      <td>Superfruit, Pomegranate; Berry, Blackberry</td>\n",
              "      <td>Carbonates</td>\n",
              "      <td>2001-01-01</td>\n",
              "      <td>NA1</td>\n",
              "      <td>Female, Antioxidant, Low Calorie, Low Carb, Su...</td>\n",
              "    </tr>\n",
              "    <tr>\n",
              "      <th>4</th>\n",
              "      <td>Superfruit, acai; Herbs, not specified</td>\n",
              "      <td>Juice &amp; Juice Drinks</td>\n",
              "      <td>2001-01-01</td>\n",
              "      <td>NA2</td>\n",
              "      <td>Heart Health, Antioxidant, Anti-Aging/Aging-We...</td>\n",
              "    </tr>\n",
              "  </tbody>\n",
              "</table>\n",
              "</div>\n",
              "      <button class=\"colab-df-convert\" onclick=\"convertToInteractive('df-25699323-b75e-455f-afee-ed08765c0d46')\"\n",
              "              title=\"Convert this dataframe to an interactive table.\"\n",
              "              style=\"display:none;\">\n",
              "        \n",
              "  <svg xmlns=\"http://www.w3.org/2000/svg\" height=\"24px\"viewBox=\"0 0 24 24\"\n",
              "       width=\"24px\">\n",
              "    <path d=\"M0 0h24v24H0V0z\" fill=\"none\"/>\n",
              "    <path d=\"M18.56 5.44l.94 2.06.94-2.06 2.06-.94-2.06-.94-.94-2.06-.94 2.06-2.06.94zm-11 1L8.5 8.5l.94-2.06 2.06-.94-2.06-.94L8.5 2.5l-.94 2.06-2.06.94zm10 10l.94 2.06.94-2.06 2.06-.94-2.06-.94-.94-2.06-.94 2.06-2.06.94z\"/><path d=\"M17.41 7.96l-1.37-1.37c-.4-.4-.92-.59-1.43-.59-.52 0-1.04.2-1.43.59L10.3 9.45l-7.72 7.72c-.78.78-.78 2.05 0 2.83L4 21.41c.39.39.9.59 1.41.59.51 0 1.02-.2 1.41-.59l7.78-7.78 2.81-2.81c.8-.78.8-2.07 0-2.86zM5.41 20L4 18.59l7.72-7.72 1.47 1.35L5.41 20z\"/>\n",
              "  </svg>\n",
              "      </button>\n",
              "      \n",
              "  <style>\n",
              "    .colab-df-container {\n",
              "      display:flex;\n",
              "      flex-wrap:wrap;\n",
              "      gap: 12px;\n",
              "    }\n",
              "\n",
              "    .colab-df-convert {\n",
              "      background-color: #E8F0FE;\n",
              "      border: none;\n",
              "      border-radius: 50%;\n",
              "      cursor: pointer;\n",
              "      display: none;\n",
              "      fill: #1967D2;\n",
              "      height: 32px;\n",
              "      padding: 0 0 0 0;\n",
              "      width: 32px;\n",
              "    }\n",
              "\n",
              "    .colab-df-convert:hover {\n",
              "      background-color: #E2EBFA;\n",
              "      box-shadow: 0px 1px 2px rgba(60, 64, 67, 0.3), 0px 1px 3px 1px rgba(60, 64, 67, 0.15);\n",
              "      fill: #174EA6;\n",
              "    }\n",
              "\n",
              "    [theme=dark] .colab-df-convert {\n",
              "      background-color: #3B4455;\n",
              "      fill: #D2E3FC;\n",
              "    }\n",
              "\n",
              "    [theme=dark] .colab-df-convert:hover {\n",
              "      background-color: #434B5C;\n",
              "      box-shadow: 0px 1px 3px 1px rgba(0, 0, 0, 0.15);\n",
              "      filter: drop-shadow(0px 1px 2px rgba(0, 0, 0, 0.3));\n",
              "      fill: #FFFFFF;\n",
              "    }\n",
              "  </style>\n",
              "\n",
              "      <script>\n",
              "        const buttonEl =\n",
              "          document.querySelector('#df-25699323-b75e-455f-afee-ed08765c0d46 button.colab-df-convert');\n",
              "        buttonEl.style.display =\n",
              "          google.colab.kernel.accessAllowed ? 'block' : 'none';\n",
              "\n",
              "        async function convertToInteractive(key) {\n",
              "          const element = document.querySelector('#df-25699323-b75e-455f-afee-ed08765c0d46');\n",
              "          const dataTable =\n",
              "            await google.colab.kernel.invokeFunction('convertToInteractive',\n",
              "                                                     [key], {});\n",
              "          if (!dataTable) return;\n",
              "\n",
              "          const docLinkHtml = 'Like what you see? Visit the ' +\n",
              "            '<a target=\"_blank\" href=https://colab.research.google.com/notebooks/data_table.ipynb>data table notebook</a>'\n",
              "            + ' to learn more about interactive tables.';\n",
              "          element.innerHTML = '';\n",
              "          dataTable['output_type'] = 'display_data';\n",
              "          await google.colab.output.renderOutput(dataTable, element);\n",
              "          const docLink = document.createElement('div');\n",
              "          docLink.innerHTML = docLinkHtml;\n",
              "          element.appendChild(docLink);\n",
              "        }\n",
              "      </script>\n",
              "    </div>\n",
              "  </div>\n",
              "  "
            ]
          },
          "metadata": {},
          "execution_count": 55
        }
      ]
    },
    {
      "cell_type": "markdown",
      "source": [
        "## Conclusion\n",
        "\n",
        "*   The Region North America is divided into 3 countries NA1, NA2, NA3 implying that the beverage data does not include all countries of the North America Region which is 23.\n",
        "*   Since Product ID is not unique and listed similiar to Serial number, we can drop the column.\n",
        "*   Majority (About 90%) of the flavors are being launched in the country NA1 followed by the country NA2 and a negligible amount of flavors are launched in country NA3\n",
        "*   There are about 13 unique Market Subcategory for the North America Region.\n",
        "*   The products have been launched between the years 2001 and 2010.\n",
        "*   The data had a very less amount of NA values which were dropped from the table.\n",
        "\n",
        "\n",
        "\n",
        "\n"
      ],
      "metadata": {
        "id": "L4W2wHpgB-Mr"
      }
    }
  ]
}